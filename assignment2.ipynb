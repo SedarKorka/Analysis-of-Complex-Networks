{
 "cells": [
  {
   "cell_type": "code",
   "execution_count": 2,
   "metadata": {},
   "outputs": [],
   "source": [
    "# import the modules\n",
    "import urllib.request\n",
    "import networkx as nx\n",
    "import numpy as np\n",
    "import random\n",
    "import matplotlib.pyplot as plt"
   ]
  },
  {
   "cell_type": "code",
   "execution_count": 3,
   "metadata": {},
   "outputs": [],
   "source": [
    "#Load the dataset\n",
    "# Load the Facebook-Ego network\n",
    "facebook_url = \"https://raw.githubusercontent.com/wang422003/Complex-Networks_exercise/main/Datasets/Group3/Facebook-Ego/348.edges\"\n",
    "urllib.request.urlretrieve(facebook_url, \"facebook.edges\")\n",
    "facebook_network = nx.read_edgelist(\"facebook.edges\", nodetype=int)\n",
    "\n",
    "# Load the Twitter-Ego network\n",
    "twitter_url = \"https://raw.githubusercontent.com/wang422003/Complex-Networks_exercise/main/Datasets/Group3/Twitter-Ego/789071.edges\"\n",
    "urllib.request.urlretrieve(twitter_url, \"twitter.edges\")\n",
    "twitter_network = nx.read_edgelist(\"twitter.edges\", nodetype=int, create_using=nx.DiGraph())"
   ]
  },
  {
   "cell_type": "code",
   "execution_count": 5,
   "metadata": {},
   "outputs": [
    {
     "name": "stdout",
     "output_type": "stream",
     "text": [
      "{29: 2, 45: 1, 17: 5, 28: 3, 44: 2, 57: 1, 13: 6, 21: 5, 24: 4, 18: 3, 35: 3, 23: 3, 48: 1, 54: 1, 19: 3, 38: 2, 41: 1, 12: 8, 7: 6, 6: 4, 5: 8, 22: 2, 15: 2, 3: 6, 40: 1, 14: 2, 30: 2, 2: 10, 27: 1, 1: 8, 11: 1, 32: 4, 64: 1, 20: 4, 33: 2, 10: 5, 4: 7, 37: 2, 8: 3, 39: 1, 9: 3, 43: 1, 34: 1, 16: 4, 25: 1, 31: 2}\n"
     ]
    },
    {
     "data": {
      "image/png": "[encoded data removed]",
      "text/plain": [
       "<Figure size 640x480 with 1 Axes>"
      ]
     },
     "metadata": {},
     "output_type": "display_data"
    }
   ],
   "source": [
    "#Question (a)\n",
    "# Calculate the degree sequence for facebook\n",
    "degree_sequence = [d for n, d in facebook_network.degree()]\n",
    "degree_count = dict()\n",
    "\n",
    "for d in degree_sequence:\n",
    "    if d in degree_count:\n",
    "        degree_count[d] += 1\n",
    "    else:\n",
    "        degree_count[d] = 1\n",
    "\n",
    "print(degree_count)\n",
    "# Plot the degree distribution\n",
    "plt.scatter(degree_count.keys(), degree_count.values())\n",
    "plt.title(\"Degree distribution of the Facebook-Ego network\")\n",
    "plt.xlabel(\"Degree\")\n",
    "plt.ylabel(\"Number of nodes\")\n",
    "plt.show()\n",
    "\n",
    "\n",
    "\n",
    "\n",
    "# Calculate the degree sequence Twitter\n",
    "degree_sequence = [d for n, d in twitter_network.degree()]\n",
    "degree_count = dict()\n",
    "for d in degree_sequence:\n",
    "    if d in degree_count:\n",
    "        degree_count[d] += 1\n",
    "    else:\n",
    "        degree_count[d] = 1\n",
    "\n",
    "print(degree_count)\n",
    "# Plot the degree distribution\n",
    "plt.scatter(degree_count.keys(), degree_count.values())\n",
    "plt.title(\"Degree distribution of the Twitter-Ego network\")\n",
    "plt.xlabel(\"Degree\")\n",
    "plt.ylabel(\"Number of nodes\")\n",
    "plt.show()"
   ]
  },
  {
   "cell_type": "code",
   "execution_count": 4,
   "metadata": {},
   "outputs": [
    {
     "name": "stdout",
     "output_type": "stream",
     "text": [
      "\n",
      "\n",
      "To understand how these networks differ from a random one, it's important to look closely at the patterns in how the degrees are distributed.\n",
      "\n",
      "Imporant Observations about Facebook Network and Twitter Network:\n",
      "\n",
      "1. For Facebook Network:\n",
      "   - There is variability in degrees, with higher counts at specific degrees (e.g., 2, 3, 4, 6, 8, 10).\n",
      "   - The network has nodes with higher degrees (e.g., 12, 13, 15).\n",
      "   - The distribution lacks a strict regularity.\n",
      "\n",
      "2. For Twitter Network:\n",
      "   - Similarly to Facebook, there is variability in degrees, with higher counts at specific degrees (e.g., 2, 3, 4, 6, 7, 8, 9).\n",
      "   - Higher degrees are present in the network (e.g., 12, 28, 50).\n",
      "   - The distribution does not follow a strict regular pattern.\n",
      "\n",
      "Comparison with a Random Network:\n",
      "\n",
      "In examining the degree distributions of both the Facebook and Twitter networks, a striking commonality emerges—non-random patterns. \n",
      "Unlike what one might expect in a completely random network, these distributions showcase variability, hinting at a more intricate structure. \n",
      "Notably, both networks feature nodes with higher degrees, suggesting the existence of hubs or nodes highly interconnected with others.\n",
      "\n",
      "This phenomenon is indicative of preferential attachment, a trend observed in both networks. The higher counts at specific degrees imply that nodes \n",
      "with elevated degrees tend to attract new connections more frequently. Such preferential attachment is a well-known feature in real-world networks \n",
      "and significantly contributes to the development of hubs within these systems.\n",
      "\n",
      "Further enriching the analysis, the variability in degrees in both networks alludes to potential community structures. While degree distributions \n",
      "alone don't unveil the specifics of community organization, the observed diversity in degrees hints at the presence of distinct communities or \n",
      "clusters within the intricate fabric of the networks.\n",
      "\n",
      "\n",
      "Causes of Differences:\n",
      "\n",
      "1. Purpose and Function:\n",
      "   - Real-world networks often have specific purposes or functions that influence their structure. \n",
      "      Social networks like Facebook and Twitter are shaped by user behaviors and preferences, contributing to non-random patterns.\n",
      "\n",
      "2. Node Addition Mechanisms:\n",
      "   - How new nodes are added to the network can affect the degree distribution. If new nodes preferentially attach to existing nodes with higher \n",
      "      degrees, this can lead to a distribution with hubs.\n",
      "\n",
      "3. Evolutionary Processes:\n",
      "   - Over time, networks evolve based on user interactions, preferences, and external factors. This evolutionary process can result in non-random \n",
      "   structures.\n",
      "In conclusion, the primary difference between the chosen networks (Facebook and Twitter) and a random network with the same number of nodes lies in \n",
      "the presence of non-random patterns, such as preferential attachment and degree variability. The causes of these differences are rooted in the \n",
      "purpose and function of the networks, node addition mechanisms, and evolutionary processes shaping the networks.      \n",
      "      \n"
     ]
    }
   ],
   "source": [
    "##Question (b)\n",
    "print(\"\"\"\n",
    "\n",
    "To understand how these networks differ from a random one, it's important to look closely at the patterns in how the degrees are distributed.\n",
    "\n",
    "Imporant Observations about Facebook Network and Twitter Network:\n",
    "\n",
    "1. For Facebook Network:\n",
    "   - There is variability in degrees, with higher counts at specific degrees (e.g., 2, 3, 4, 6, 8, 10).\n",
    "   - The network has nodes with higher degrees (e.g., 12, 13, 15).\n",
    "   - The distribution lacks a strict regularity.\n",
    "\n",
    "2. For Twitter Network:\n",
    "   - Similarly to Facebook, there is variability in degrees, with higher counts at specific degrees (e.g., 2, 3, 4, 6, 7, 8, 9).\n",
    "   - Higher degrees are present in the network (e.g., 12, 28, 50).\n",
    "   - The distribution does not follow a strict regular pattern.\n",
    "\n",
    "Comparison with a Random Network:\n",
    "\n",
    "In examining the degree distributions of both the Facebook and Twitter networks, a striking commonality emerges—non-random patterns. \n",
    "Unlike what one might expect in a completely random network, these distributions showcase variability, hinting at a more intricate structure. \n",
    "Notably, both networks feature nodes with higher degrees, suggesting the existence of hubs or nodes highly interconnected with others.\n",
    "\n",
    "This phenomenon is indicative of preferential attachment, a trend observed in both networks. The higher counts at specific degrees imply that nodes \n",
    "with elevated degrees tend to attract new connections more frequently. Such preferential attachment is a well-known feature in real-world networks \n",
    "and significantly contributes to the development of hubs within these systems.\n",
    "\n",
    "Further enriching the analysis, the variability in degrees in both networks alludes to potential community structures. While degree distributions \n",
    "alone don't unveil the specifics of community organization, the observed diversity in degrees hints at the presence of distinct communities or \n",
    "clusters within the intricate fabric of the networks.\n",
    "\n",
    "\n",
    "Causes of Differences:\n",
    "\n",
    "1. Purpose and Function:\n",
    "   - Real-world networks often have specific purposes or functions that influence their structure. \n",
    "      Social networks like Facebook and Twitter are shaped by user behaviors and preferences, contributing to non-random patterns.\n",
    "\n",
    "2. Node Addition Mechanisms:\n",
    "   - How new nodes are added to the network can affect the degree distribution. If new nodes preferentially attach to existing nodes with higher \n",
    "      degrees, this can lead to a distribution with hubs.\n",
    "\n",
    "3. Evolutionary Processes:\n",
    "   - Over time, networks evolve based on user interactions, preferences, and external factors. This evolutionary process can result in non-random \n",
    "   structures.\n",
    "In conclusion, the primary difference between the chosen networks (Facebook and Twitter) and a random network with the same number of nodes lies in \n",
    "the presence of non-random patterns, such as preferential attachment and degree variability. The causes of these differences are rooted in the \n",
    "purpose and function of the networks, node addition mechanisms, and evolutionary processes shaping the networks.      \n",
    "      \"\"\")\n"
   ]
  },
  {
   "cell_type": "code",
   "execution_count": 6,
   "metadata": {},
   "outputs": [
    {
     "name": "stdout",
     "output_type": "stream",
     "text": [
      "The average path length of the Facebook-Ego network is: 2.446421096693177\n",
      "The average path length of the Twitter-Ego network is: 3.584276475343573\n"
     ]
    }
   ],
   "source": [
    "## Question c\n",
    "\n",
    "# Calculate the shortest path length between all pairs of nodes for Facebook-Ego network\n",
    "shortest_path_lengths_facebook = dict(nx.shortest_path_length(facebook_network))\n",
    "\n",
    "# Calculate the average shortest path length for Facebook-Ego network\n",
    "avg_shortest_path_length_facebook = np.mean([length for source in shortest_path_lengths_facebook for length in shortest_path_lengths_facebook[source].values()])\n",
    "\n",
    "print(\"The average path length of the Facebook-Ego network is:\", avg_shortest_path_length_facebook)\n",
    "\n",
    "# Calculate the shortest path length between all pairs of nodes for Twitter-Ego network\n",
    "shortest_path_lengths_twitter = dict(nx.shortest_path_length(twitter_network))\n",
    "\n",
    "# Calculate the average shortest path length for Twitter-Ego network\n",
    "avg_shortest_path_length_twitter = np.mean([length for source in shortest_path_lengths_twitter for length in shortest_path_lengths_twitter[source].values()])\n",
    "\n",
    "print(\"The average path length of the Twitter-Ego network is:\", avg_shortest_path_length_twitter)\n"
   ]
  },
  {
   "cell_type": "code",
   "execution_count": 8,
   "metadata": {},
   "outputs": [
    {
     "name": "stdout",
     "output_type": "stream",
     "text": [
      "=============================================================================================================\n",
      "Random Nodes (Facebook): [482, 441, 448, 468, 462]\n",
      "Clustering Coefficients (Facebook): [0.5612648221343873, 0.9, 1.0, 0, 0.6666666666666666]\n",
      "=============================================================================================================\n",
      "Random Nodes (Twitter): [52613032, 19957312, 23654341, 18331980, 357032926]\n",
      "Clustering Coefficients (Twitter): [0.12121212121212122, 0.6516393442622951, 0.075, 0.7099236641221374, 0.6532258064516129]\n",
      "=============================================================================================================\n"
     ]
    },
    {
     "name": "stderr",
     "output_type": "stream",
     "text": [
      "/tmp/ipykernel_10863/1334697452.py:5: DeprecationWarning: Sampling from a set deprecated\n",
      "since Python 3.9 and will be removed in a subsequent version.\n",
      "  return random.sample(graph.nodes(), k)\n"
     ]
    }
   ],
   "source": [
    "##Question d\n",
    "\n",
    "# Function to randomly select k nodes from a network\n",
    "def random_nodes(graph, k):\n",
    "    return random.sample(graph.nodes(), k)\n",
    "\n",
    "# Function to calculate clustering coefficient for a node in a graph\n",
    "def calculate_clustering_coefficient(graph, node):\n",
    "    return nx.clustering(graph, node)\n",
    "\n",
    "# Randomly choose 5 nodes for Facebook-Ego network\n",
    "random_nodes_facebook = random_nodes(facebook_network, 5)\n",
    "# Randomly choose 5 nodes for Twitter-Ego network\n",
    "random_nodes_twitter = random_nodes(twitter_network, 5)\n",
    "\n",
    "# Calculate clustering coefficients for each node in Facebook-Ego network\n",
    "clustering_coefficients_facebook = [calculate_clustering_coefficient(facebook_network, node) for node in random_nodes_facebook]\n",
    "# Calculate clustering coefficients for each node in Twitter-Ego network\n",
    "clustering_coefficients_twitter = [calculate_clustering_coefficient(twitter_network, node) for node in random_nodes_twitter]\n",
    "\n",
    "print(\"=============================================================================================================\")\n",
    "# Print the results for Facebook-Ego network\n",
    "print(\"Random Nodes (Facebook):\", random_nodes_facebook)\n",
    "print(\"Clustering Coefficients (Facebook):\", clustering_coefficients_facebook)\n",
    "\n",
    "print(\"=============================================================================================================\")\n",
    "# Print the results for Twitter-Ego network\n",
    "print(\"Random Nodes (Twitter):\", random_nodes_twitter)\n",
    "print(\"Clustering Coefficients (Twitter):\", clustering_coefficients_twitter)\n",
    "print(\"=============================================================================================================\")\n"
   ]
  },
  {
   "cell_type": "code",
   "execution_count": 9,
   "metadata": {},
   "outputs": [
    {
     "name": "stdout",
     "output_type": "stream",
     "text": [
      "The average clustering coefficient for the facebook-Ego network is: 0.4900622304455071\n",
      "The average clustering coefficient for the Twitter-Ego network is: 0.38527956693070126\n"
     ]
    }
   ],
   "source": [
    "##Question e\n",
    "\n",
    "# Calculate the average clustering coefficient of the network\n",
    "avg_clustering_coefficient_facebook = nx.average_clustering(facebook_network)\n",
    "# Calculate the average clustering coefficient of the network\n",
    "avg_clustering_coefficient_twitter = nx.average_clustering(twitter_network)\n",
    "\n",
    "print(\"The average clustering coefficient for the facebook-Ego network is:\", avg_clustering_coefficient_facebook)\n",
    "print(\"The average clustering coefficient for the Twitter-Ego network is:\", avg_clustering_coefficient_twitter)"
   ]
  },
  {
   "cell_type": "code",
   "execution_count": 10,
   "metadata": {},
   "outputs": [
    {
     "name": "stdout",
     "output_type": "stream",
     "text": [
      "Nodes in the largest component of the Facebook-Ego network:\n",
      "[34, 173, 349, 350, 352, 353, 354, 355, 356, 357, 359, 360, 361, 362, 363, 365, 366, 367, 368, 369, 370, 371, 372, 373, 374, 375, 376, 377, 378, 380, 381, 382, 383, 384, 385, 387, 388, 389, 390, 391, 392, 394, 395, 396, 397, 398, 400, 402, 403, 404, 405, 406, 407, 408, 409, 410, 411, 412, 413, 414, 415, 416, 417, 418, 419, 420, 421, 422, 423, 424, 425, 426, 427, 428, 429, 430, 431, 432, 433, 434, 435, 436, 437, 438, 439, 440, 442, 443, 444, 445, 446, 448, 449, 450, 451, 452, 453, 455, 456, 457, 458, 459, 460, 461, 462, 463, 464, 465, 466, 467, 468, 469, 470, 471, 472, 473, 474, 475, 477, 478, 479, 480, 481, 482, 483, 484, 485, 486, 487, 488, 489, 490, 491, 492, 493, 494, 495, 496]\n"
     ]
    }
   ],
   "source": [
    "##Question (f)\n",
    "\n",
    "#For facebook_network\n",
    "largest_component_facebook = max(nx.connected_components(facebook_network), key=len)\n",
    "nodes_in_largest_component_facebook = list(largest_component_facebook)\n",
    "\n",
    "print(\"Nodes in the largest component of the Facebook-Ego network:\")\n",
    "print(nodes_in_largest_component_facebook)"
   ]
  },
  {
   "cell_type": "code",
   "execution_count": 11,
   "metadata": {},
   "outputs": [
    {
     "name": "stdout",
     "output_type": "stream",
     "text": [
      "Nodes in the largest strongly connected component of the Twitter-Ego network:\n",
      "[6054912, 199009284, 27998216, 19364873, 20136458, 17020962, 60923426, 14100010, 18953259, 194677810, 20039230, 19957312, 7861312, 289759808, 51171395, 19702854, 191477840, 12152402, 20777047, 90420314, 276963941, 17350250, 333449324, 388212339, 145852539, 18963070, 40196232, 8115852, 21966989, 30614676, 19970709, 44874400, 113134752, 31123109, 7846, 30104231, 19795629, 151232686, 30231735, 42861755, 160143038, 117848769, 21447363, 20015311, 268806872, 19233002, 113126125, 27825390, 34747631, 19129073, 15670515, 7111412, 14202104, 203694329, 19982092, 64496398, 17836026, 1976611, 44101412, 19095849, 19586880, 20083529, 18331980, 172814159, 15294801, 23873876, 20137301, 24737621, 352226135, 18265433, 181750109, 16464746, 1715051, 20079982, 39348085, 26465656, 33174013, 6353802, 53297035, 20230544, 297074078, 95233955, 66561957, 52613032, 78207918, 215952307, 18980276, 78129590, 20138935, 79312312, 538245048, 169443767, 403383741, 24083901, 23654341, 253089222, 17753033, 43289545, 357032926, 107556834, 23771106, 22800874, 135281645, 19524590, 407977463, 20344826, 27816957, 19818494]\n"
     ]
    }
   ],
   "source": [
    "# Assuming you have the Twitter-Ego network stored in the variable 'twitter_network'\n",
    "strongly_connected_components_twitter = list(nx.strongly_connected_components(twitter_network))\n",
    "\n",
    "# Find the largest strongly connected component\n",
    "largest_component_twitter = max(strongly_connected_components_twitter, key=len)\n",
    "nodes_in_largest_component_twitter = list(largest_component_twitter)\n",
    "\n",
    "print(\"Nodes in the largest strongly connected component of the Twitter-Ego network:\")\n",
    "print(nodes_in_largest_component_twitter)"
   ]
  }
 ],
 "metadata": {
  "kernelspec": {
   "display_name": "Python 3",
   "language": "python",
   "name": "python3"
  },
  "language_info": {
   "codemirror_mode": {
    "name": "ipython",
    "version": 3
   },
   "file_extension": ".py",
   "mimetype": "text/x-python",
   "name": "python",
   "nbconvert_exporter": "python",
   "pygments_lexer": "ipython3",
   "version": "3.10.8"
  },
  "orig_nbformat": 4
 },
 "nbformat": 4,
 "nbformat_minor": 2
}
