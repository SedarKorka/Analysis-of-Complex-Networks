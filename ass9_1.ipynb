{
 "cells": [
  {
   "cell_type": "code",
   "execution_count": 2,
   "metadata": {},
   "outputs": [
    {
     "name": "stdout",
     "output_type": "stream",
     "text": [
      "\n",
      "FullName : Diallo Mamadou Korka\n",
      "Studend’s Number: 022028845F\n",
      "      \n",
      "Modelling and Analysis of Complex Networks\n",
      "Assignment : 9 \n",
      "Number of the dataset : 3\n",
      "\n"
     ]
    }
   ],
   "source": [
    "print(\"\"\"\n",
    "FullName : Diallo Mamadou Korka\n",
    "Studend’s Number: 022028845F\n",
    "      \n",
    "Modelling and Analysis of Complex Networks\n",
    "Assignment : 9 \n",
    "Number of the dataset : 3\n",
    "\"\"\")"
   ]
  },
  {
   "cell_type": "code",
   "execution_count": 1,
   "metadata": {},
   "outputs": [],
   "source": [
    "# import the modules\n",
    "import urllib.request\n",
    "import networkx as nx\n",
    "import numpy as np\n",
    "import random\n",
    "import matplotlib.pyplot as plt\n",
    "\n",
    "import pandas as pd\n",
    "from sklearn.model_selection import train_test_split\n",
    "from sklearn.ensemble import RandomForestClassifier\n",
    "from sklearn.metrics import accuracy_score\n",
    "from sklearn.metrics import roc_curve, auc, precision_score, roc_auc_score"
   ]
  },
  {
   "cell_type": "code",
   "execution_count": 2,
   "metadata": {},
   "outputs": [],
   "source": [
    "#Load the dataset\n",
    "# Load the Facebook-Ego network\n",
    "facebook_url = \"https://raw.githubusercontent.com/wang422003/Complex-Networks_exercise/main/Datasets/Group3/Facebook-Ego/348.edges\"\n",
    "urllib.request.urlretrieve(facebook_url, \"facebook.edges\")\n",
    "facebook_network = nx.read_edgelist(\"facebook.edges\", nodetype=int)\n",
    "\n",
    "# Load the Twitter-Ego network\n",
    "twitter_url = \"https://raw.githubusercontent.com/wang422003/Complex-Networks_exercise/main/Datasets/Group3/Twitter-Ego/789071.edges\"\n",
    "urllib.request.urlretrieve(twitter_url, \"twitter.edges\")\n",
    "twitter_network = nx.read_edgelist(\"twitter.edges\", nodetype=int, create_using=nx.DiGraph())"
   ]
  },
  {
   "cell_type": "code",
   "execution_count": 3,
   "metadata": {},
   "outputs": [
    {
     "name": "stderr",
     "output_type": "stream",
     "text": [
      "/tmp/ipykernel_23546/2236701770.py:3: DeprecationWarning: Sampling from a set deprecated\n",
      "since Python 3.9 and will be removed in a subsequent version.\n",
      "  rm_edges_from_random = random.sample(facebook_network.edges(), rm_edges_10)\n"
     ]
    }
   ],
   "source": [
    "#Randomly delete 10% of the edges\n",
    "rm_edges_10 = int(0.1 * facebook_network.number_of_edges())\n",
    "rm_edges_from_random = random.sample(facebook_network.edges(), rm_edges_10)\n",
    "facebook_network.remove_edges_from(rm_edges_from_random)\n",
    "\n",
    "path_features = 'https://raw.githubusercontent.com/wang422003/Complex-Networks_exercise/main/Datasets/Group3/Facebook-Ego/348.feat'\n",
    "features = pd.read_csv(path_features, sep=\" \", header=None)\n",
    "features.set_index(0, inplace=True)"
   ]
  },
  {
   "cell_type": "code",
   "execution_count": 6,
   "metadata": {},
   "outputs": [],
   "source": [
    "def feature_similarity(node1, node2):\n",
    "    if node1 in features.index and node2 in features.index:\n",
    "        return np.sum(features.loc[node1] == features.loc[node2])\n",
    "    else:\n",
    "        return 0\n",
    "\n",
    "def jaccard_coefficient(node1, node2, graph):\n",
    "    union_size = len(set(graph.neighbors(node1)) | set(graph.neighbors(node2)))\n",
    "    if union_size == 0:\n",
    "        return 0\n",
    "    intersection_size = len(list(nx.common_neighbors(graph, node1, node2)))\n",
    "    return intersection_size / union_size\n",
    "\n",
    "def generate_features(node1, node2, graph):\n",
    "    return [\n",
    "        feature_similarity(node1, node2),\n",
    "        jaccard_coefficient(node1, node2, graph)\n",
    "    ]\n"
   ]
  },
  {
   "cell_type": "code",
   "execution_count": 8,
   "metadata": {},
   "outputs": [
    {
     "name": "stdout",
     "output_type": "stream",
     "text": [
      "The Output of the prediction\n",
      "[1 1 1 1 1 0 0 1 1 0 0 0 0 0 1 0 0 1 0 1 1 0 1 0 0]\n"
     ]
    }
   ],
   "source": [
    "#Predict the deleted edges\n",
    "removed_edges = rm_edges_from_random\n",
    "negative_examples = [(u, v) for u in facebook_network.nodes() for v in facebook_network.nodes() if u < v and not facebook_network.has_edge(u, v)]\n",
    "negative_examples = random.sample(negative_examples, len(removed_edges))\n",
    "examples = removed_edges + negative_examples\n",
    "labels = [1] * len(removed_edges) + [0] * len(negative_examples)\n",
    "\n",
    "features_ml = [generate_features(u, v, facebook_network) for u, v in examples]\n",
    "\n",
    "X_train, X_test, y_train, y_test = train_test_split(features_ml, labels, test_size=0.1, random_state=42)\n",
    "model = RandomForestClassifier()\n",
    "model.fit(X_train, y_train)\n",
    "prediction = model.predict(X_test)\n",
    "\n",
    "print(\"The Output of the prediction\")\n",
    "print(prediction)\n"
   ]
  },
  {
   "cell_type": "code",
   "execution_count": 6,
   "metadata": {},
   "outputs": [
    {
     "name": "stdout",
     "output_type": "stream",
     "text": [
      "Accuracy: 0.72\n",
      "AUROC: 0.8012820512820512\n",
      "Precision: 0.7272727272727273\n"
     ]
    }
   ],
   "source": [
    "#Calculate the metrics\n",
    "prediction = model.predict(X_test)\n",
    "prediction_proba = model.predict_proba(X_test)[:, 1]\n",
    "\n",
    "# Calculate the value of accuracy ,AUROC and also the Precision\n",
    "accuracy = accuracy_score(y_test, prediction)\n",
    "auroc = roc_auc_score(y_test, prediction_proba)\n",
    "precision = precision_score(y_test, prediction)\n",
    "\n",
    "#print the  Accuracy,AUROC and the Precision\n",
    "print(\"Accuracy:\", accuracy)\n",
    "print(\"AUROC:\", auroc) \n",
    "print(\"Precision:\", precision)"
   ]
  },
  {
   "cell_type": "code",
   "execution_count": 7,
   "metadata": {},
   "outputs": [
    {
     "data": {
      "image/png": "[encoded data removed]",
      "text/plain": [
       "<Figure size 640x480 with 1 Axes>"
      ]
     },
     "metadata": {},
     "output_type": "display_data"
    }
   ],
   "source": [
    "# ROC Curve\n",
    "fpr, tpr, _ = roc_curve(y_test, prediction_proba)\n",
    "plt.figure()\n",
    "plt.plot(fpr, tpr, color='blue',  label='ROC curve')\n",
    "plt.plot([0, 1], [0, 1], color='red',  linestyle='--')\n",
    "plt.xlim([0.0, 1.0])\n",
    "plt.ylim([0.0, 1.05])\n",
    "plt.xlabel('False Positive Rate')\n",
    "plt.ylabel('True Positive Rate')\n",
    "plt.title('ROC Curce')\n",
    "plt.legend()\n",
    "plt.show()"
   ]
  }
 ],
 "metadata": {
  "kernelspec": {
   "display_name": "Python 3",
   "language": "python",
   "name": "python3"
  },
  "language_info": {
   "codemirror_mode": {
    "name": "ipython",
    "version": 3
   },
   "file_extension": ".py",
   "mimetype": "text/x-python",
   "name": "python",
   "nbconvert_exporter": "python",
   "pygments_lexer": "ipython3",
   "version": "3.10.8"
  }
 },
 "nbformat": 4,
 "nbformat_minor": 2
}
