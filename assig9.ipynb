{
 "cells": [
  {
   "cell_type": "code",
   "execution_count": 1,
   "metadata": {},
   "outputs": [],
   "source": [
    "# import the modules\n",
    "import urllib.request\n",
    "import networkx as nx\n",
    "import numpy as np\n",
    "import random\n",
    "import matplotlib.pyplot as plt\n",
    "from sklearn.linear_model import LogisticRegression\n",
    "from sklearn.metrics import accuracy_score, roc_auc_score, precision_score, roc_curve"
   ]
  },
  {
   "cell_type": "code",
   "execution_count": 2,
   "metadata": {},
   "outputs": [],
   "source": [
    "# Load the Facebook-Ego network\n",
    "facebook_url = \"https://raw.githubusercontent.com/wang422003/Complex-Networks_exercise/main/Datasets/Group3/Facebook-Ego/348.edges\"\n",
    "urllib.request.urlretrieve(facebook_url, \"facebook.edges\")\n",
    "facebook_network = nx.read_edgelist(\"facebook.edges\", nodetype=int)\n"
   ]
  },
  {
   "cell_type": "code",
   "execution_count": 3,
   "metadata": {},
   "outputs": [],
   "source": [
    "# Define the community labels\n",
    "community_labels = {0: [1, 2, 3, 4, 5], 1: [6, 7, 8, 9, 10]}\n",
    "\n",
    "# Create the node features\n",
    "node_features = {}\n",
    "for node in facebook_network.nodes():\n",
    "    node_features[node] = [int(node in community_labels[0]), int(node in community_labels[1])]"
   ]
  },
  {
   "cell_type": "code",
   "execution_count": 4,
   "metadata": {},
   "outputs": [],
   "source": [
    "# Create the target labels\n",
    "y = np.array([int(node in community_labels[1]) for node in facebook_network.nodes()])"
   ]
  },
  {
   "cell_type": "code",
   "execution_count": 6,
   "metadata": {},
   "outputs": [],
   "source": [
    "train_nodes = random.sample(list(facebook_network.nodes()), int(0.8 * len(facebook_network)))"
   ]
  },
  {
   "cell_type": "code",
   "execution_count": 7,
   "metadata": {},
   "outputs": [
    {
     "name": "stderr",
     "output_type": "stream",
     "text": [
      "/tmp/ipykernel_55754/862560535.py:2: DeprecationWarning: Sampling from a set deprecated\n",
      "since Python 3.9 and will be removed in a subsequent version.\n",
      "  train_nodes = random.sample(facebook_network.nodes(), int(0.8 * len(facebook_network)))\n"
     ]
    },
    {
     "ename": "IndexError",
     "evalue": "index 398 is out of bounds for axis 0 with size 148",
     "output_type": "error",
     "traceback": [
      "\u001b[0;31m---------------------------------------------------------------------------\u001b[0m",
      "\u001b[0;31mIndexError\u001b[0m                                Traceback (most recent call last)",
      "\u001b[1;32m/workspaces/Analysis-of-Complex-Networks/assig9.ipynb Cell 6\u001b[0m line \u001b[0;36m5\n\u001b[1;32m      <a href='vscode-notebook-cell://codespaces%2Bbookish-space-succotash-5rq5pqg9rwv3797v/workspaces/Analysis-of-Complex-Networks/assig9.ipynb#W4sdnNjb2RlLXJlbW90ZQ%3D%3D?line=2'>3</a>\u001b[0m test_nodes \u001b[39m=\u001b[39m \u001b[39mlist\u001b[39m(\u001b[39mset\u001b[39m(facebook_network\u001b[39m.\u001b[39mnodes()) \u001b[39m-\u001b[39m \u001b[39mset\u001b[39m(train_nodes))\n\u001b[1;32m      <a href='vscode-notebook-cell://codespaces%2Bbookish-space-succotash-5rq5pqg9rwv3797v/workspaces/Analysis-of-Complex-Networks/assig9.ipynb#W4sdnNjb2RlLXJlbW90ZQ%3D%3D?line=3'>4</a>\u001b[0m X_train \u001b[39m=\u001b[39m np\u001b[39m.\u001b[39marray([node_features[node] \u001b[39mfor\u001b[39;00m node \u001b[39min\u001b[39;00m train_nodes])\n\u001b[0;32m----> <a href='vscode-notebook-cell://codespaces%2Bbookish-space-succotash-5rq5pqg9rwv3797v/workspaces/Analysis-of-Complex-Networks/assig9.ipynb#W4sdnNjb2RlLXJlbW90ZQ%3D%3D?line=4'>5</a>\u001b[0m y_train \u001b[39m=\u001b[39m y[train_nodes]\n\u001b[1;32m      <a href='vscode-notebook-cell://codespaces%2Bbookish-space-succotash-5rq5pqg9rwv3797v/workspaces/Analysis-of-Complex-Networks/assig9.ipynb#W4sdnNjb2RlLXJlbW90ZQ%3D%3D?line=5'>6</a>\u001b[0m X_test \u001b[39m=\u001b[39m np\u001b[39m.\u001b[39marray([node_features[node] \u001b[39mfor\u001b[39;00m node \u001b[39min\u001b[39;00m test_nodes])\n\u001b[1;32m      <a href='vscode-notebook-cell://codespaces%2Bbookish-space-succotash-5rq5pqg9rwv3797v/workspaces/Analysis-of-Complex-Networks/assig9.ipynb#W4sdnNjb2RlLXJlbW90ZQ%3D%3D?line=6'>7</a>\u001b[0m y_test \u001b[39m=\u001b[39m y[test_nodes]\n",
      "\u001b[0;31mIndexError\u001b[0m: index 398 is out of bounds for axis 0 with size 148"
     ]
    }
   ],
   "source": [
    "# Split the data into training and testing sets\n",
    "train_nodes = random.sample(facebook_network.nodes(), int(0.8 * len(facebook_network)))\n",
    "test_nodes = list(set(facebook_network.nodes()) - set(train_nodes))\n",
    "X_train = np.array([node_features[node] for node in train_nodes])\n",
    "y_train = y[train_nodes]\n",
    "X_test = np.array([node_features[node] for node in test_nodes])\n",
    "y_test = y[test_nodes]"
   ]
  },
  {
   "cell_type": "code",
   "execution_count": null,
   "metadata": {},
   "outputs": [],
   "source": []
  }
 ],
 "metadata": {
  "kernelspec": {
   "display_name": "Python 3",
   "language": "python",
   "name": "python3"
  },
  "language_info": {
   "codemirror_mode": {
    "name": "ipython",
    "version": 3
   },
   "file_extension": ".py",
   "mimetype": "text/x-python",
   "name": "python",
   "nbconvert_exporter": "python",
   "pygments_lexer": "ipython3",
   "version": "3.10.8"
  }
 },
 "nbformat": 4,
 "nbformat_minor": 2
}
